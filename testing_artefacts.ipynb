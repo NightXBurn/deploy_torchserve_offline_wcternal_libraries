{
 "cells": [
  {
   "cell_type": "code",
   "execution_count": 10,
   "metadata": {},
   "outputs": [
    {
     "name": "stdout",
     "output_type": "stream",
     "text": [
      "tensor([[0.2075]])\n"
     ]
    }
   ],
   "source": [
    "import torch\n",
    "import pickle\n",
    "import pandas as pd\n",
    "\n",
    "# Load the preprocessing pipeline\n",
    "with open(\"artifacts/preprocessor.pkl\", \"rb\") as reader:\n",
    "    preprocessor = pickle.load(reader)\n",
    "\n",
    "# Load the TorchScript model\n",
    "model = torch.jit.load('models/titanic_model.pt')\n",
    "\n",
    "# Prepare new data for inference (example)\n",
    "new_data = pd.DataFrame({\n",
    "    'Pclass': [3],\n",
    "    'Sex': ['male'],\n",
    "    'Age': [22],\n",
    "    'SibSp': [1],\n",
    "    'Parch': [0],\n",
    "    'Fare': [7.25],\n",
    "    'Embarked': ['S']\n",
    "})\n",
    "\n",
    "# Preprocess the new data\n",
    "new_data_preprocessed = preprocessor.transform(new_data)\n",
    "\n",
    "# Convert to PyTorch tensor\n",
    "new_data_tensor = torch.tensor(new_data_preprocessed, dtype=torch.float32)\n",
    "\n",
    "# Perform inference\n",
    "model.eval()\n",
    "with torch.no_grad():\n",
    "    prediction = model(new_data_tensor)\n",
    "    print(prediction)\n"
   ]
  },
  {
   "cell_type": "code",
   "execution_count": null,
   "metadata": {},
   "outputs": [],
   "source": []
  }
 ],
 "metadata": {
  "kernelspec": {
   "display_name": "torchserve_deployment_dev",
   "language": "python",
   "name": "python3"
  },
  "language_info": {
   "codemirror_mode": {
    "name": "ipython",
    "version": 3
   },
   "file_extension": ".py",
   "mimetype": "text/x-python",
   "name": "python",
   "nbconvert_exporter": "python",
   "pygments_lexer": "ipython3",
   "version": "3.9.15"
  }
 },
 "nbformat": 4,
 "nbformat_minor": 2
}
